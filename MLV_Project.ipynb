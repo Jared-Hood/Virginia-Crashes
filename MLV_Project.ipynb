{
 "cells": [
  {
   "cell_type": "markdown",
   "metadata": {
    "colab_type": "text",
    "id": "bP-H7uf32_fh"
   },
   "source": [
    "## **Getting the Data** "
   ]
  },
  {
   "cell_type": "code",
   "execution_count": 0,
   "metadata": {
    "colab": {},
    "colab_type": "code",
    "id": "CvjMHsJbcL0M"
   },
   "outputs": [],
   "source": [
    "import pandas as pd\n",
    "\n",
    "#Function to load full crash data\n",
    "def load_crash_data(path=\"Full_Crash.csv\"):\n",
    "    return pd.read_csv(path)\n",
    "\n",
    "#Function to save updated crash data after extracting useful features\n",
    "def save_crash_data(data_frame):\n",
    "    data_frame.to_csv('Updated_Crash_Data.csv', index=False)"
   ]
  },
  {
   "cell_type": "code",
   "execution_count": 2,
   "metadata": {
    "colab": {
     "base_uri": "https://localhost:8080/",
     "height": 156
    },
    "colab_type": "code",
    "id": "bTGDh4DJ3R1s",
    "outputId": "85529967-86ae-4d57-fee2-d7be62bc7656"
   },
   "outputs": [
    {
     "name": "stderr",
     "output_type": "stream",
     "text": [
      "/usr/local/lib/python3.6/dist-packages/IPython/core/interactiveshell.py:2822: DtypeWarning: Columns (11,12,129,130,132,133,134,135,141,145,146,147,148,149,150,151,152,154) have mixed types. Specify dtype option on import or set low_memory=False.\n",
      "  if self.run_code(code, result):\n"
     ]
    },
    {
     "name": "stdout",
     "output_type": "stream",
     "text": [
      "<class 'pandas.core.frame.DataFrame'>\n",
      "RangeIndex: 86000 entries, 0 to 85999\n",
      "Columns: 212 entries, X to Young_Notyoung\n",
      "dtypes: float64(49), int64(32), object(131)\n",
      "memory usage: 139.1+ MB\n"
     ]
    }
   ],
   "source": [
    "#Open Full crash data file\n",
    "crash_data = load_crash_data()\n",
    "crash_data.info()"
   ]
  },
  {
   "cell_type": "code",
   "execution_count": 13,
   "metadata": {
    "colab": {
     "base_uri": "https://localhost:8080/",
     "height": 576
    },
    "colab_type": "code",
    "id": "VvZkJ0LJMR1E",
    "outputId": "07e52613-b2c9-4121-d79f-78d452fae124"
   },
   "outputs": [
    {
     "data": {
      "text/html": [
       "<div>\n",
       "<style scoped>\n",
       "    .dataframe tbody tr th:only-of-type {\n",
       "        vertical-align: middle;\n",
       "    }\n",
       "\n",
       "    .dataframe tbody tr th {\n",
       "        vertical-align: top;\n",
       "    }\n",
       "\n",
       "    .dataframe thead th {\n",
       "        text-align: right;\n",
       "    }\n",
       "</style>\n",
       "<table border=\"1\" class=\"dataframe\">\n",
       "  <thead>\n",
       "    <tr style=\"text-align: right;\">\n",
       "      <th></th>\n",
       "      <th>X</th>\n",
       "      <th>Y</th>\n",
       "      <th>OBJECTID</th>\n",
       "      <th>ACCESS_CONTROL</th>\n",
       "      <th>Alcohol_Notalcohol</th>\n",
       "      <th>A_Crash</th>\n",
       "      <th>A_People</th>\n",
       "      <th>Basetypedesc</th>\n",
       "      <th>BEGIN_NODE_DSC</th>\n",
       "      <th>Belted_Unbelted</th>\n",
       "      <th>BIKEAGE</th>\n",
       "      <th>BIKEGEN</th>\n",
       "      <th>BIKEINJURYTYPE</th>\n",
       "      <th>BIKEVEHICLENUMBER</th>\n",
       "      <th>Bike_Nonbike</th>\n",
       "      <th>BMP</th>\n",
       "      <th>B_Crash</th>\n",
       "      <th>B_People</th>\n",
       "      <th>Carspeedlimit</th>\n",
       "      <th>Collision_Type</th>\n",
       "      <th>Comm_Cargo_Body_Type_Cd</th>\n",
       "      <th>Comm_Vehicle_Body_Type_Cd</th>\n",
       "      <th>COUNT_APP</th>\n",
       "      <th>CRASH_DT__copy_</th>\n",
       "      <th>Crash_Dt</th>\n",
       "      <th>Crash_Event_Type_Dsc</th>\n",
       "      <th>Crash_Military_Tm</th>\n",
       "      <th>Crash_Severity</th>\n",
       "      <th>Crash_Year</th>\n",
       "      <th>CURBGUTTERDESC</th>\n",
       "      <th>C_Crash</th>\n",
       "      <th>C_People</th>\n",
       "      <th>Area_Type_Used</th>\n",
       "      <th>First_Harmful_Event_of_Entire_C</th>\n",
       "      <th>Physical_Juris</th>\n",
       "      <th>VDOT_District</th>\n",
       "      <th>Time_Slicing_Used</th>\n",
       "      <th>Ownership_Used</th>\n",
       "      <th>LATITUDE</th>\n",
       "      <th>Plan_District</th>\n",
       "      <th>...</th>\n",
       "      <th>Rte_Nm</th>\n",
       "      <th>RURALURBANDESC</th>\n",
       "      <th>School_Zone</th>\n",
       "      <th>SECOND_CRASH_EVENT_CD</th>\n",
       "      <th>Segtotaadt2013</th>\n",
       "      <th>Segtotaadt2014</th>\n",
       "      <th>Segtotaadt2015</th>\n",
       "      <th>Segtotaadt2016</th>\n",
       "      <th>Segtotaadt2017</th>\n",
       "      <th>Segtotaadt2018</th>\n",
       "      <th>Senior_Notsenior</th>\n",
       "      <th>Sidewalkdesc</th>\n",
       "      <th>SINGLE_MULTI</th>\n",
       "      <th>Speed_Before</th>\n",
       "      <th>Speed_Max_Safe</th>\n",
       "      <th>Speed_Notspeed</th>\n",
       "      <th>Speed_Posted</th>\n",
       "      <th>START_NODE</th>\n",
       "      <th>START_OFFSET</th>\n",
       "      <th>Summons_Issued_Cd</th>\n",
       "      <th>SURFACEDESC</th>\n",
       "      <th>THIRD_CRASH_EVENT_CD</th>\n",
       "      <th>TIME_SLICING</th>\n",
       "      <th>Total_Crashes_including_PDO</th>\n",
       "      <th>Total_Crash_1</th>\n",
       "      <th>TRAFFIC_CONTROL_TYPE</th>\n",
       "      <th>TRFC_CTRL_STATUS_TYPE</th>\n",
       "      <th>TRUCKCOMMR</th>\n",
       "      <th>Tbl_crash_Juris_Cd</th>\n",
       "      <th>Vehiclenumber</th>\n",
       "      <th>Vehicle_Body_Type_Cd</th>\n",
       "      <th>Vehicle_Make_Nm</th>\n",
       "      <th>Vehicle_Maneuver_Type_Cd</th>\n",
       "      <th>Vehicle_Model_Nm</th>\n",
       "      <th>Vehicle_Year_Nbr</th>\n",
       "      <th>Weather_Condition</th>\n",
       "      <th>Work_Zone_Location</th>\n",
       "      <th>Work_Zone_Related</th>\n",
       "      <th>Work_Zone_Type</th>\n",
       "      <th>Young_Notyoung</th>\n",
       "    </tr>\n",
       "  </thead>\n",
       "  <tbody>\n",
       "    <tr>\n",
       "      <th>0</th>\n",
       "      <td>-79.163463</td>\n",
       "      <td>37.407877</td>\n",
       "      <td>2001</td>\n",
       "      <td>No Access Control</td>\n",
       "      <td>Not_ALCOHOL</td>\n",
       "      <td>0</td>\n",
       "      <td>0</td>\n",
       "      <td>Bituminous Concrete (Black Base)</td>\n",
       "      <td>C1US-00501(B)/</td>\n",
       "      <td>BELTED</td>\n",
       "      <td>NaN</td>\n",
       "      <td>NaN</td>\n",
       "      <td>NaN</td>\n",
       "      <td>NaN</td>\n",
       "      <td>Not_BIKE</td>\n",
       "      <td>3.45</td>\n",
       "      <td>0</td>\n",
       "      <td>0</td>\n",
       "      <td>NaN</td>\n",
       "      <td>2. Angle</td>\n",
       "      <td>Not Provided,Not Provided</td>\n",
       "      <td>Not Provided,Not Provided</td>\n",
       "      <td>4.0</td>\n",
       "      <td>2014-01-07T00:00:00.000Z</td>\n",
       "      <td>2014-01-07T00:00:00.000Z</td>\n",
       "      <td>20. Motor Vehicle In Transport</td>\n",
       "      <td>1943</td>\n",
       "      <td>PDO.Property Damage Only</td>\n",
       "      <td>2014</td>\n",
       "      <td>Left and Right sides</td>\n",
       "      <td>0</td>\n",
       "      <td>0</td>\n",
       "      <td>Urban</td>\n",
       "      <td>20. Motor Vehicle In Transport</td>\n",
       "      <td>118.Lynchburg</td>\n",
       "      <td>3.Lynchburg</td>\n",
       "      <td>6PM TO 9PM</td>\n",
       "      <td>PRI_URBAN</td>\n",
       "      <td>37.40787</td>\n",
       "      <td>Region 2000</td>\n",
       "      <td>...</td>\n",
       "      <td>R-VA   SR00163NB</td>\n",
       "      <td>Urbanized (Population 50,000 - 199,999)</td>\n",
       "      <td>3. No</td>\n",
       "      <td>0,0</td>\n",
       "      <td>13845.0</td>\n",
       "      <td>13867.0</td>\n",
       "      <td>14062.0</td>\n",
       "      <td>14637.0</td>\n",
       "      <td>13248.0</td>\n",
       "      <td>13327.0</td>\n",
       "      <td>Not_SENIOR</td>\n",
       "      <td>Left and Right sides</td>\n",
       "      <td>MULTI_VEHICLE</td>\n",
       "      <td>NaN</td>\n",
       "      <td>30,30</td>\n",
       "      <td>Not_SPEED</td>\n",
       "      <td>30,30</td>\n",
       "      <td>179331.0</td>\n",
       "      <td>0.0</td>\n",
       "      <td>1. Yes,2. No</td>\n",
       "      <td>0</td>\n",
       "      <td>0,0</td>\n",
       "      <td>6PM TO 9PM</td>\n",
       "      <td>1</td>\n",
       "      <td>1</td>\n",
       "      <td>3. Traffic Signal</td>\n",
       "      <td>1. Yes - Working</td>\n",
       "      <td>Not a Parkway - Trucks and Commercial Vehicles...</td>\n",
       "      <td>118</td>\n",
       "      <td>1,2</td>\n",
       "      <td>1. Passenger car,1. Passenger car</td>\n",
       "      <td>Chevrolet,Hyundai</td>\n",
       "      <td>3. Making Left Turn,1. Going Straight Ahead</td>\n",
       "      <td>HHR,Sonata</td>\n",
       "      <td>2008,2007</td>\n",
       "      <td>1. No Adverse Condition (Clear/Cloudy)</td>\n",
       "      <td>3. Activity Area</td>\n",
       "      <td>1. Yes</td>\n",
       "      <td>1. Lane Closure</td>\n",
       "      <td>Not_YOUNG</td>\n",
       "    </tr>\n",
       "    <tr>\n",
       "      <th>1</th>\n",
       "      <td>-78.855123</td>\n",
       "      <td>38.423788</td>\n",
       "      <td>2002</td>\n",
       "      <td>No Access Control</td>\n",
       "      <td>Not_ALCOHOL</td>\n",
       "      <td>0</td>\n",
       "      <td>0</td>\n",
       "      <td>Stabilized with Selected Material (Soil,Gravel...</td>\n",
       "      <td>STREET(L)/</td>\n",
       "      <td>BELTED</td>\n",
       "      <td>NaN</td>\n",
       "      <td>NaN</td>\n",
       "      <td>NaN</td>\n",
       "      <td>NaN</td>\n",
       "      <td>Not_BIKE</td>\n",
       "      <td>0.60</td>\n",
       "      <td>0</td>\n",
       "      <td>0</td>\n",
       "      <td>NaN</td>\n",
       "      <td>2. Angle</td>\n",
       "      <td>Not Provided,Not Provided</td>\n",
       "      <td>Not Provided,Not Provided</td>\n",
       "      <td>3.0</td>\n",
       "      <td>2016-08-15T00:00:00.000Z</td>\n",
       "      <td>2016-08-15T00:00:00.000Z</td>\n",
       "      <td>20. Motor Vehicle In Transport</td>\n",
       "      <td>607</td>\n",
       "      <td>PDO.Property Damage Only</td>\n",
       "      <td>2016</td>\n",
       "      <td>Left and Right sides</td>\n",
       "      <td>0</td>\n",
       "      <td>0</td>\n",
       "      <td>Urban</td>\n",
       "      <td>20. Motor Vehicle In Transport</td>\n",
       "      <td>115.Harrisonburg</td>\n",
       "      <td>8.Staunton</td>\n",
       "      <td>6AM TO 9AM</td>\n",
       "      <td>SEC_URBAN</td>\n",
       "      <td>38.42378</td>\n",
       "      <td>Central Shenandoah</td>\n",
       "      <td>...</td>\n",
       "      <td>R-VA115UR04107NB</td>\n",
       "      <td>Urbanized (Population 50,000 - 199,999)</td>\n",
       "      <td>3. No</td>\n",
       "      <td>0,0</td>\n",
       "      <td>14012.0</td>\n",
       "      <td>14127.0</td>\n",
       "      <td>15057.0</td>\n",
       "      <td>14650.0</td>\n",
       "      <td>15286.0</td>\n",
       "      <td>15641.0</td>\n",
       "      <td>Not_SENIOR</td>\n",
       "      <td>None</td>\n",
       "      <td>MULTI_VEHICLE</td>\n",
       "      <td>15,25</td>\n",
       "      <td>25,25</td>\n",
       "      <td>Not_SPEED</td>\n",
       "      <td>25,25</td>\n",
       "      <td>587163.0</td>\n",
       "      <td>0.0</td>\n",
       "      <td>1. Yes,2. No</td>\n",
       "      <td>0</td>\n",
       "      <td>0,0</td>\n",
       "      <td>6AM TO 9AM</td>\n",
       "      <td>1</td>\n",
       "      <td>1</td>\n",
       "      <td>4. Stop Sign</td>\n",
       "      <td>1. Yes - Working</td>\n",
       "      <td>Not a Parkway - Trucks and Commercial Vehicles...</td>\n",
       "      <td>115</td>\n",
       "      <td>1,2</td>\n",
       "      <td>22. Truck - Sport Utility Vehicle (SUV),22. Tr...</td>\n",
       "      <td>SUBARU,MAZDA</td>\n",
       "      <td>3. Making Left Turn,1. Going Straight Ahead</td>\n",
       "      <td>CROSSTREK,CX-5</td>\n",
       "      <td>2015,2015</td>\n",
       "      <td>1. No Adverse Condition (Clear/Cloudy)</td>\n",
       "      <td>3. Activity Area</td>\n",
       "      <td>1. Yes</td>\n",
       "      <td>3. Work on Shoulder or Median</td>\n",
       "      <td>Not_YOUNG</td>\n",
       "    </tr>\n",
       "    <tr>\n",
       "      <th>2</th>\n",
       "      <td>-82.121504</td>\n",
       "      <td>36.630577</td>\n",
       "      <td>2003</td>\n",
       "      <td>No Access Control</td>\n",
       "      <td>Not_ALCOHOL</td>\n",
       "      <td>0</td>\n",
       "      <td>0</td>\n",
       "      <td>Bituminous Concrete (Black Base)</td>\n",
       "      <td>IS-00081-N007A(L)/102-03318- 002A(R)/TO &amp; FRO</td>\n",
       "      <td>BELTED</td>\n",
       "      <td>NaN</td>\n",
       "      <td>NaN</td>\n",
       "      <td>NaN</td>\n",
       "      <td>NaN</td>\n",
       "      <td>Not_BIKE</td>\n",
       "      <td>1.94</td>\n",
       "      <td>0</td>\n",
       "      <td>0</td>\n",
       "      <td>NaN</td>\n",
       "      <td>1. Rear End</td>\n",
       "      <td>Not Provided,Not Provided</td>\n",
       "      <td>Not Provided,Not Provided</td>\n",
       "      <td>4.0</td>\n",
       "      <td>2015-01-26T00:00:00.000Z</td>\n",
       "      <td>2015-01-26T00:00:00.000Z</td>\n",
       "      <td>20. Motor Vehicle In Transport</td>\n",
       "      <td>1102</td>\n",
       "      <td>PDO.Property Damage Only</td>\n",
       "      <td>2015</td>\n",
       "      <td>Left and Right sides</td>\n",
       "      <td>0</td>\n",
       "      <td>0</td>\n",
       "      <td>Urban</td>\n",
       "      <td>20. Motor Vehicle In Transport</td>\n",
       "      <td>102.Bristol</td>\n",
       "      <td>1.Bristol</td>\n",
       "      <td>9AM TO 12PM</td>\n",
       "      <td>SEC_URBAN</td>\n",
       "      <td>36.63057</td>\n",
       "      <td>Mount Rogers</td>\n",
       "      <td>...</td>\n",
       "      <td>R-VA102UR03318NB</td>\n",
       "      <td>Urbanized (Population 50,000 - 199,999)</td>\n",
       "      <td>3. No</td>\n",
       "      <td>0,0</td>\n",
       "      <td>17019.0</td>\n",
       "      <td>16855.0</td>\n",
       "      <td>16994.0</td>\n",
       "      <td>17514.0</td>\n",
       "      <td>16410.0</td>\n",
       "      <td>16570.0</td>\n",
       "      <td>Not_SENIOR</td>\n",
       "      <td>None</td>\n",
       "      <td>MULTI_VEHICLE</td>\n",
       "      <td>5,0</td>\n",
       "      <td>NaN</td>\n",
       "      <td>Not_SPEED</td>\n",
       "      <td>25,25</td>\n",
       "      <td>652365.0</td>\n",
       "      <td>0.0</td>\n",
       "      <td>2. No,2. No</td>\n",
       "      <td>0</td>\n",
       "      <td>0,0</td>\n",
       "      <td>9AM TO 12PM</td>\n",
       "      <td>1</td>\n",
       "      <td>1</td>\n",
       "      <td>3. Traffic Signal</td>\n",
       "      <td>1. Yes - Working</td>\n",
       "      <td>Not a Parkway - Trucks and Commercial Vehicles...</td>\n",
       "      <td>102</td>\n",
       "      <td>1,2</td>\n",
       "      <td>22. Truck - Sport Utility Vehicle (SUV),1. Pas...</td>\n",
       "      <td>TOYOTA,NISSAN</td>\n",
       "      <td>7. Starting From Parked Position,8. Stopped in...</td>\n",
       "      <td>SEQUIOIA,S18</td>\n",
       "      <td>2006,2004</td>\n",
       "      <td>5. Rain</td>\n",
       "      <td>3. Activity Area</td>\n",
       "      <td>1. Yes</td>\n",
       "      <td>5. Other</td>\n",
       "      <td>Not_YOUNG</td>\n",
       "    </tr>\n",
       "    <tr>\n",
       "      <th>3</th>\n",
       "      <td>NaN</td>\n",
       "      <td>NaN</td>\n",
       "      <td>2004</td>\n",
       "      <td>No Access Control</td>\n",
       "      <td>Not_ALCOHOL</td>\n",
       "      <td>0</td>\n",
       "      <td>0</td>\n",
       "      <td>Penetration Macadam and Water Bound Macadam</td>\n",
       "      <td>JB-93-112/NEW N.C.L. FRONT ROYAL(DEANNEXATION</td>\n",
       "      <td>BELTED</td>\n",
       "      <td>NaN</td>\n",
       "      <td>NaN</td>\n",
       "      <td>NaN</td>\n",
       "      <td>NaN</td>\n",
       "      <td>Not_BIKE</td>\n",
       "      <td>118.71</td>\n",
       "      <td>0</td>\n",
       "      <td>0</td>\n",
       "      <td>35.0</td>\n",
       "      <td>1. Rear End</td>\n",
       "      <td>Not Provided,Not Provided,Not Provided,Not Pro...</td>\n",
       "      <td>Not Provided,Not Provided,Not Provided,Not Pro...</td>\n",
       "      <td>3.0</td>\n",
       "      <td>2017-09-21T00:00:00.000Z</td>\n",
       "      <td>2017-09-21T00:00:00.000Z</td>\n",
       "      <td>20. Motor Vehicle In Transport</td>\n",
       "      <td>1810</td>\n",
       "      <td>PDO.Property Damage Only</td>\n",
       "      <td>2017</td>\n",
       "      <td>None</td>\n",
       "      <td>0</td>\n",
       "      <td>0</td>\n",
       "      <td>Urban</td>\n",
       "      <td>20. Motor Vehicle In Transport</td>\n",
       "      <td>93.Warren</td>\n",
       "      <td>8.Staunton</td>\n",
       "      <td>6PM TO 9PM</td>\n",
       "      <td>VDOT_PRI</td>\n",
       "      <td>NaN</td>\n",
       "      <td>Northern Shenandoah Valley</td>\n",
       "      <td>...</td>\n",
       "      <td>R-VA   US00522NB</td>\n",
       "      <td>Small Urban (Population 5,000 - 49,999)</td>\n",
       "      <td>3. No</td>\n",
       "      <td>0,0,0,0</td>\n",
       "      <td>31367.0</td>\n",
       "      <td>31367.0</td>\n",
       "      <td>31367.0</td>\n",
       "      <td>31367.0</td>\n",
       "      <td>31367.0</td>\n",
       "      <td>33436.0</td>\n",
       "      <td>Not_SENIOR</td>\n",
       "      <td>None</td>\n",
       "      <td>MULTI_VEHICLE</td>\n",
       "      <td>15,0,15,0</td>\n",
       "      <td>35,35,35,35</td>\n",
       "      <td>Not_SPEED</td>\n",
       "      <td>35,35,35,35</td>\n",
       "      <td>718207.0</td>\n",
       "      <td>0.0</td>\n",
       "      <td>2. No,2. No,1. Yes,2. No</td>\n",
       "      <td>0</td>\n",
       "      <td>0,0,0,0</td>\n",
       "      <td>6PM TO 9PM</td>\n",
       "      <td>1</td>\n",
       "      <td>1</td>\n",
       "      <td>6. Traffic Lanes Marked</td>\n",
       "      <td>1. Yes - Working</td>\n",
       "      <td>Designated Truck Route - D2</td>\n",
       "      <td>112</td>\n",
       "      <td>1,2,3,4</td>\n",
       "      <td>2. Truck - Pick-up/Passenger Truck,1. Passenge...</td>\n",
       "      <td>FORD,TOYOTA,HONDA,FORD</td>\n",
       "      <td>1. Going Straight Ahead,8. Stopped in Traffic ...</td>\n",
       "      <td>F150,COROLLA,ACCORD,F150</td>\n",
       "      <td>2016,2014,2003,1999</td>\n",
       "      <td>1. No Adverse Condition (Clear/Cloudy)</td>\n",
       "      <td>3. Activity Area</td>\n",
       "      <td>1. Yes</td>\n",
       "      <td>5. Other</td>\n",
       "      <td>Not_YOUNG</td>\n",
       "    </tr>\n",
       "    <tr>\n",
       "      <th>4</th>\n",
       "      <td>-77.147322</td>\n",
       "      <td>38.893828</td>\n",
       "      <td>2005</td>\n",
       "      <td>No Access Control</td>\n",
       "      <td>Not_ALCOHOL</td>\n",
       "      <td>0</td>\n",
       "      <td>0</td>\n",
       "      <td>Dual Type</td>\n",
       "      <td>00-06731(L)/</td>\n",
       "      <td>BELTED</td>\n",
       "      <td>NaN</td>\n",
       "      <td>NaN</td>\n",
       "      <td>NaN</td>\n",
       "      <td>NaN</td>\n",
       "      <td>Not_BIKE</td>\n",
       "      <td>244.78</td>\n",
       "      <td>0</td>\n",
       "      <td>0</td>\n",
       "      <td>30.0</td>\n",
       "      <td>2. Angle</td>\n",
       "      <td>Not Provided,Not Provided</td>\n",
       "      <td>Not Provided,Not Provided</td>\n",
       "      <td>3.0</td>\n",
       "      <td>2013-02-01T00:00:00.000Z</td>\n",
       "      <td>2013-02-01T00:00:00.000Z</td>\n",
       "      <td>20. Motor Vehicle In Transport</td>\n",
       "      <td>938</td>\n",
       "      <td>PDO.Property Damage Only</td>\n",
       "      <td>2013</td>\n",
       "      <td>Left and Right sides</td>\n",
       "      <td>0</td>\n",
       "      <td>0</td>\n",
       "      <td>Urban</td>\n",
       "      <td>20. Motor Vehicle In Transport</td>\n",
       "      <td>0.Arlington</td>\n",
       "      <td>9.Northern Virginia</td>\n",
       "      <td>9AM TO 12PM</td>\n",
       "      <td>VDOT_PRI</td>\n",
       "      <td>38.89382</td>\n",
       "      <td>Northern Virginia</td>\n",
       "      <td>...</td>\n",
       "      <td>R-VA   US00029SB</td>\n",
       "      <td>Urbanized (Population 200,000 and over)</td>\n",
       "      <td>3. No</td>\n",
       "      <td>0,0</td>\n",
       "      <td>22455.0</td>\n",
       "      <td>22269.0</td>\n",
       "      <td>21922.0</td>\n",
       "      <td>21930.0</td>\n",
       "      <td>21753.0</td>\n",
       "      <td>21498.0</td>\n",
       "      <td>Not_SENIOR</td>\n",
       "      <td>None</td>\n",
       "      <td>MULTI_VEHICLE</td>\n",
       "      <td>15,0</td>\n",
       "      <td>15,0</td>\n",
       "      <td>Not_SPEED</td>\n",
       "      <td>30,25</td>\n",
       "      <td>100131.0</td>\n",
       "      <td>0.0</td>\n",
       "      <td>2. No,2. No</td>\n",
       "      <td>0</td>\n",
       "      <td>0,0</td>\n",
       "      <td>9AM TO 12PM</td>\n",
       "      <td>1</td>\n",
       "      <td>1</td>\n",
       "      <td>4. Stop Sign</td>\n",
       "      <td>1. Yes - Working</td>\n",
       "      <td>Not a Parkway - Trucks and Commercial Vehicles...</td>\n",
       "      <td>0</td>\n",
       "      <td>1,2</td>\n",
       "      <td>1. Passenger car,1. Passenger car</td>\n",
       "      <td>Acura,Honda</td>\n",
       "      <td>2. Making Right Turn,8. Stopped in Traffic Lane</td>\n",
       "      <td>TL,Odyssey</td>\n",
       "      <td>1997,2005</td>\n",
       "      <td>6. Snow</td>\n",
       "      <td>1. Advance Warning Area</td>\n",
       "      <td>1. Yes</td>\n",
       "      <td>2. Lane Shift/Crossover</td>\n",
       "      <td>Not_YOUNG</td>\n",
       "    </tr>\n",
       "  </tbody>\n",
       "</table>\n",
       "<p>5 rows × 212 columns</p>\n",
       "</div>"
      ],
      "text/plain": [
       "           X          Y  ...                 Work_Zone_Type Young_Notyoung\n",
       "0 -79.163463  37.407877  ...                1. Lane Closure      Not_YOUNG\n",
       "1 -78.855123  38.423788  ...  3. Work on Shoulder or Median      Not_YOUNG\n",
       "2 -82.121504  36.630577  ...                       5. Other      Not_YOUNG\n",
       "3        NaN        NaN  ...                       5. Other      Not_YOUNG\n",
       "4 -77.147322  38.893828  ...        2. Lane Shift/Crossover      Not_YOUNG\n",
       "\n",
       "[5 rows x 212 columns]"
      ]
     },
     "execution_count": 13,
     "metadata": {
      "tags": []
     },
     "output_type": "execute_result"
    }
   ],
   "source": [
    "crash_data.head()"
   ]
  },
  {
   "cell_type": "code",
   "execution_count": 0,
   "metadata": {
    "colab": {},
    "colab_type": "code",
    "id": "fLbAczi33b4q"
   },
   "outputs": [],
   "source": [
    "#Create new table containing only useful features\n",
    "new_crash_data = crash_data[['Carspeedlimit','Alcohol_Notalcohol', 'DAY_OF_WEEK', 'NIGHT', 'Weather_Condition', 'Young_Notyoung', 'Light_Condition', 'INTERSECTION_TYPE', 'Collision_Type', 'Time_Slicing_Used', 'RURALURBANDESC']].copy()"
   ]
  },
  {
   "cell_type": "code",
   "execution_count": 63,
   "metadata": {
    "colab": {
     "base_uri": "https://localhost:8080/",
     "height": 394
    },
    "colab_type": "code",
    "id": "eKYpoa208BuC",
    "outputId": "e65abc29-fdf9-4dbc-e467-74ea50fef5ef"
   },
   "outputs": [
    {
     "data": {
      "text/html": [
       "<div>\n",
       "<style scoped>\n",
       "    .dataframe tbody tr th:only-of-type {\n",
       "        vertical-align: middle;\n",
       "    }\n",
       "\n",
       "    .dataframe tbody tr th {\n",
       "        vertical-align: top;\n",
       "    }\n",
       "\n",
       "    .dataframe thead th {\n",
       "        text-align: right;\n",
       "    }\n",
       "</style>\n",
       "<table border=\"1\" class=\"dataframe\">\n",
       "  <thead>\n",
       "    <tr style=\"text-align: right;\">\n",
       "      <th></th>\n",
       "      <th>Carspeedlimit</th>\n",
       "      <th>Alcohol_Notalcohol</th>\n",
       "      <th>DAY_OF_WEEK</th>\n",
       "      <th>NIGHT</th>\n",
       "      <th>Weather_Condition</th>\n",
       "      <th>Young_Notyoung</th>\n",
       "      <th>Light_Condition</th>\n",
       "      <th>INTERSECTION_TYPE</th>\n",
       "      <th>Collision_Type</th>\n",
       "      <th>Time_Slicing_Used</th>\n",
       "      <th>RURALURBANDESC</th>\n",
       "    </tr>\n",
       "  </thead>\n",
       "  <tbody>\n",
       "    <tr>\n",
       "      <th>0</th>\n",
       "      <td>NaN</td>\n",
       "      <td>Not_ALCOHOL</td>\n",
       "      <td>Tuesday</td>\n",
       "      <td>NIGHT</td>\n",
       "      <td>1. No Adverse Condition (Clear/Cloudy)</td>\n",
       "      <td>Not_YOUNG</td>\n",
       "      <td>4. Darkness - Road Lighted</td>\n",
       "      <td>4. Four Approaches</td>\n",
       "      <td>2. Angle</td>\n",
       "      <td>6PM TO 9PM</td>\n",
       "      <td>Urbanized (Population 50,000 - 199,999)</td>\n",
       "    </tr>\n",
       "    <tr>\n",
       "      <th>1</th>\n",
       "      <td>NaN</td>\n",
       "      <td>Not_ALCOHOL</td>\n",
       "      <td>Monday</td>\n",
       "      <td>DAY</td>\n",
       "      <td>1. No Adverse Condition (Clear/Cloudy)</td>\n",
       "      <td>Not_YOUNG</td>\n",
       "      <td>1. Dawn</td>\n",
       "      <td>4. Four Approaches</td>\n",
       "      <td>2. Angle</td>\n",
       "      <td>6AM TO 9AM</td>\n",
       "      <td>Urbanized (Population 50,000 - 199,999)</td>\n",
       "    </tr>\n",
       "    <tr>\n",
       "      <th>2</th>\n",
       "      <td>NaN</td>\n",
       "      <td>Not_ALCOHOL</td>\n",
       "      <td>Monday</td>\n",
       "      <td>DAY</td>\n",
       "      <td>5. Rain</td>\n",
       "      <td>Not_YOUNG</td>\n",
       "      <td>2. Daylight</td>\n",
       "      <td>4. Four Approaches</td>\n",
       "      <td>1. Rear End</td>\n",
       "      <td>9AM TO 12PM</td>\n",
       "      <td>Urbanized (Population 50,000 - 199,999)</td>\n",
       "    </tr>\n",
       "    <tr>\n",
       "      <th>3</th>\n",
       "      <td>35.0</td>\n",
       "      <td>Not_ALCOHOL</td>\n",
       "      <td>Thursday</td>\n",
       "      <td>DAY</td>\n",
       "      <td>1. No Adverse Condition (Clear/Cloudy)</td>\n",
       "      <td>Not_YOUNG</td>\n",
       "      <td>2. Daylight</td>\n",
       "      <td>1. Not at Intersection</td>\n",
       "      <td>1. Rear End</td>\n",
       "      <td>6PM TO 9PM</td>\n",
       "      <td>Small Urban (Population 5,000 - 49,999)</td>\n",
       "    </tr>\n",
       "    <tr>\n",
       "      <th>4</th>\n",
       "      <td>30.0</td>\n",
       "      <td>Not_ALCOHOL</td>\n",
       "      <td>Friday</td>\n",
       "      <td>DAY</td>\n",
       "      <td>6. Snow</td>\n",
       "      <td>Not_YOUNG</td>\n",
       "      <td>2. Daylight</td>\n",
       "      <td>3. Three Approaches</td>\n",
       "      <td>2. Angle</td>\n",
       "      <td>9AM TO 12PM</td>\n",
       "      <td>Urbanized (Population 200,000 and over)</td>\n",
       "    </tr>\n",
       "  </tbody>\n",
       "</table>\n",
       "</div>"
      ],
      "text/plain": [
       "   Carspeedlimit  ...                           RURALURBANDESC\n",
       "0            NaN  ...  Urbanized (Population 50,000 - 199,999)\n",
       "1            NaN  ...  Urbanized (Population 50,000 - 199,999)\n",
       "2            NaN  ...  Urbanized (Population 50,000 - 199,999)\n",
       "3           35.0  ...  Small Urban (Population 5,000 - 49,999)\n",
       "4           30.0  ...  Urbanized (Population 200,000 and over)\n",
       "\n",
       "[5 rows x 11 columns]"
      ]
     },
     "execution_count": 63,
     "metadata": {
      "tags": []
     },
     "output_type": "execute_result"
    }
   ],
   "source": [
    "new_crash_data.head(5)"
   ]
  },
  {
   "cell_type": "code",
   "execution_count": 64,
   "metadata": {
    "colab": {
     "base_uri": "https://localhost:8080/",
     "height": 394
    },
    "colab_type": "code",
    "id": "dikiz5-aL_qO",
    "outputId": "21437110-dd06-4aca-e655-dd90ab55c9f8"
   },
   "outputs": [
    {
     "data": {
      "text/html": [
       "<div>\n",
       "<style scoped>\n",
       "    .dataframe tbody tr th:only-of-type {\n",
       "        vertical-align: middle;\n",
       "    }\n",
       "\n",
       "    .dataframe tbody tr th {\n",
       "        vertical-align: top;\n",
       "    }\n",
       "\n",
       "    .dataframe thead th {\n",
       "        text-align: right;\n",
       "    }\n",
       "</style>\n",
       "<table border=\"1\" class=\"dataframe\">\n",
       "  <thead>\n",
       "    <tr style=\"text-align: right;\">\n",
       "      <th></th>\n",
       "      <th>Carspeedlimit</th>\n",
       "      <th>Alcohol_Notalcohol</th>\n",
       "      <th>DAY_OF_WEEK</th>\n",
       "      <th>NIGHT</th>\n",
       "      <th>Weather_Condition</th>\n",
       "      <th>Young_Notyoung</th>\n",
       "      <th>Light_Condition</th>\n",
       "      <th>INTERSECTION_TYPE</th>\n",
       "      <th>Collision_Type</th>\n",
       "      <th>Time_Slicing_Used</th>\n",
       "      <th>RURALURBANDESC</th>\n",
       "    </tr>\n",
       "  </thead>\n",
       "  <tbody>\n",
       "    <tr>\n",
       "      <th>0</th>\n",
       "      <td>NaN</td>\n",
       "      <td>Not_ALCOHOL</td>\n",
       "      <td>Tuesday</td>\n",
       "      <td>NIGHT</td>\n",
       "      <td>1. No Adverse Condition (Clear/Cloudy)</td>\n",
       "      <td>Not_YOUNG</td>\n",
       "      <td>4. Darkness - Road Lighted</td>\n",
       "      <td>4. Four Approaches</td>\n",
       "      <td>2. Angle</td>\n",
       "      <td>6PM TO 9PM</td>\n",
       "      <td>Urbanized (Population 50,000 - 199,999)</td>\n",
       "    </tr>\n",
       "    <tr>\n",
       "      <th>1</th>\n",
       "      <td>NaN</td>\n",
       "      <td>Not_ALCOHOL</td>\n",
       "      <td>Monday</td>\n",
       "      <td>DAY</td>\n",
       "      <td>1. No Adverse Condition (Clear/Cloudy)</td>\n",
       "      <td>Not_YOUNG</td>\n",
       "      <td>1. Dawn</td>\n",
       "      <td>4. Four Approaches</td>\n",
       "      <td>2. Angle</td>\n",
       "      <td>6AM TO 9AM</td>\n",
       "      <td>Urbanized (Population 50,000 - 199,999)</td>\n",
       "    </tr>\n",
       "    <tr>\n",
       "      <th>2</th>\n",
       "      <td>NaN</td>\n",
       "      <td>Not_ALCOHOL</td>\n",
       "      <td>Monday</td>\n",
       "      <td>DAY</td>\n",
       "      <td>5. Rain</td>\n",
       "      <td>Not_YOUNG</td>\n",
       "      <td>2. Daylight</td>\n",
       "      <td>4. Four Approaches</td>\n",
       "      <td>1. Rear End</td>\n",
       "      <td>9AM TO 12PM</td>\n",
       "      <td>Urbanized (Population 50,000 - 199,999)</td>\n",
       "    </tr>\n",
       "    <tr>\n",
       "      <th>11</th>\n",
       "      <td>NaN</td>\n",
       "      <td>Not_ALCOHOL</td>\n",
       "      <td>Friday</td>\n",
       "      <td>DAY</td>\n",
       "      <td>1. No Adverse Condition (Clear/Cloudy)</td>\n",
       "      <td>Not_YOUNG</td>\n",
       "      <td>3. Dusk</td>\n",
       "      <td>4. Four Approaches</td>\n",
       "      <td>2. Angle</td>\n",
       "      <td>3PM TO 6PM</td>\n",
       "      <td>Urbanized (Population 200,000 and over)</td>\n",
       "    </tr>\n",
       "    <tr>\n",
       "      <th>12</th>\n",
       "      <td>NaN</td>\n",
       "      <td>Not_ALCOHOL</td>\n",
       "      <td>Friday</td>\n",
       "      <td>DAY</td>\n",
       "      <td>5. Rain</td>\n",
       "      <td>Not_YOUNG</td>\n",
       "      <td>2. Daylight</td>\n",
       "      <td>4. Four Approaches</td>\n",
       "      <td>1. Rear End</td>\n",
       "      <td>6PM TO 9PM</td>\n",
       "      <td>Urbanized (Population 200,000 and over)</td>\n",
       "    </tr>\n",
       "  </tbody>\n",
       "</table>\n",
       "</div>"
      ],
      "text/plain": [
       "    Carspeedlimit  ...                           RURALURBANDESC\n",
       "0             NaN  ...  Urbanized (Population 50,000 - 199,999)\n",
       "1             NaN  ...  Urbanized (Population 50,000 - 199,999)\n",
       "2             NaN  ...  Urbanized (Population 50,000 - 199,999)\n",
       "11            NaN  ...  Urbanized (Population 200,000 and over)\n",
       "12            NaN  ...  Urbanized (Population 200,000 and over)\n",
       "\n",
       "[5 rows x 11 columns]"
      ]
     },
     "execution_count": 64,
     "metadata": {
      "tags": []
     },
     "output_type": "execute_result"
    }
   ],
   "source": [
    "#check for incomplete rows\n",
    "incomplete_rows = new_crash_data[new_crash_data.isnull().any(axis=1)].head()\n",
    "incomplete_rows\n"
   ]
  },
  {
   "cell_type": "code",
   "execution_count": 0,
   "metadata": {
    "colab": {},
    "colab_type": "code",
    "id": "w02o36ltNhtN"
   },
   "outputs": [],
   "source": [
    "#Only 5 rows have Null values so just drop them from dataset\n",
    "crash_cleaned = new_crash_data.dropna(subset=[\"Carspeedlimit\"]) "
   ]
  },
  {
   "cell_type": "code",
   "execution_count": 41,
   "metadata": {
    "colab": {
     "base_uri": "https://localhost:8080/",
     "height": 103
    },
    "colab_type": "code",
    "id": "dXtghsnOMnzS",
    "outputId": "3d882284-cc85-4cd5-b8e5-229ca3bf03f9"
   },
   "outputs": [
    {
     "name": "stderr",
     "output_type": "stream",
     "text": [
      "/usr/local/lib/python3.6/dist-packages/ipykernel_launcher.py:1: UserWarning: Boolean Series key will be reindexed to match DataFrame index.\n",
      "  \"\"\"Entry point for launching an IPython kernel.\n"
     ]
    },
    {
     "data": {
      "text/html": [
       "<div>\n",
       "<style scoped>\n",
       "    .dataframe tbody tr th:only-of-type {\n",
       "        vertical-align: middle;\n",
       "    }\n",
       "\n",
       "    .dataframe tbody tr th {\n",
       "        vertical-align: top;\n",
       "    }\n",
       "\n",
       "    .dataframe thead th {\n",
       "        text-align: right;\n",
       "    }\n",
       "</style>\n",
       "<table border=\"1\" class=\"dataframe\">\n",
       "  <thead>\n",
       "    <tr style=\"text-align: right;\">\n",
       "      <th></th>\n",
       "      <th>Carspeedlimit</th>\n",
       "      <th>Alcohol_Notalcohol</th>\n",
       "      <th>DAY_OF_WEEK</th>\n",
       "      <th>NIGHT</th>\n",
       "      <th>Weather_Condition</th>\n",
       "      <th>Young_Notyoung</th>\n",
       "      <th>Light_Condition</th>\n",
       "      <th>INTERSECTION_TYPE</th>\n",
       "      <th>Collision_Type</th>\n",
       "      <th>Time_Slicing_Used</th>\n",
       "      <th>Area_Type_Used</th>\n",
       "    </tr>\n",
       "  </thead>\n",
       "  <tbody>\n",
       "  </tbody>\n",
       "</table>\n",
       "</div>"
      ],
      "text/plain": [
       "Empty DataFrame\n",
       "Columns: [Carspeedlimit, Alcohol_Notalcohol, DAY_OF_WEEK, NIGHT, Weather_Condition, Young_Notyoung, Light_Condition, INTERSECTION_TYPE, Collision_Type, Time_Slicing_Used, Area_Type_Used]\n",
       "Index: []"
      ]
     },
     "execution_count": 41,
     "metadata": {
      "tags": []
     },
     "output_type": "execute_result"
    }
   ],
   "source": [
    "incomplete_rows = crash_cleaned[new_crash_data.isnull().any(axis=1)].head()\n",
    "incomplete_rows"
   ]
  },
  {
   "cell_type": "code",
   "execution_count": 0,
   "metadata": {
    "colab": {},
    "colab_type": "code",
    "id": "brLwQP0x9Bez"
   },
   "outputs": [],
   "source": [
    "#Save new dataframe into csv_file so Full_Crash doesn't need to be opened\n",
    "save_crash_data(crash_cleaned)"
   ]
  },
  {
   "cell_type": "markdown",
   "metadata": {
    "colab_type": "text",
    "id": "z5pJSkgIi0wN"
   },
   "source": [
    "## **Data Visualization**"
   ]
  },
  {
   "cell_type": "code",
   "execution_count": 65,
   "metadata": {
    "colab": {
     "base_uri": "https://localhost:8080/",
     "height": 255
    },
    "colab_type": "code",
    "id": "R7DhtJiXi294",
    "outputId": "4627c736-c8d5-4dde-8723-d6d74618b724"
   },
   "outputs": [
    {
     "data": {
      "text/plain": [
       "<bound method NDFrame.head of                X          Y  Carspeedlimit\n",
       "0     -79.163463  37.407877            NaN\n",
       "1     -78.855123  38.423788            NaN\n",
       "2     -82.121504  36.630577            NaN\n",
       "3            NaN        NaN           35.0\n",
       "4     -77.147322  38.893828           30.0\n",
       "...          ...        ...            ...\n",
       "85995 -77.428682  37.392907           45.0\n",
       "85996 -77.481652  37.574937           35.0\n",
       "85997 -77.389802  37.473987            NaN\n",
       "85998 -77.614292  37.521087           45.0\n",
       "85999 -77.457542  37.621328           45.0\n",
       "\n",
       "[86000 rows x 3 columns]>"
      ]
     },
     "execution_count": 65,
     "metadata": {
      "tags": []
     },
     "output_type": "execute_result"
    }
   ],
   "source": [
    "lng_lat = crash_data[['X', 'Y', 'Carspeedlimit']].copy()\n",
    "lng_lat.head"
   ]
  },
  {
   "cell_type": "code",
   "execution_count": 0,
   "metadata": {
    "colab": {},
    "colab_type": "code",
    "id": "8VseC8DkjSdE"
   },
   "outputs": [],
   "source": [
    "#Drop Null values from dataset\n",
    "lng_lat_prepared = lng_lat.dropna()"
   ]
  },
  {
   "cell_type": "code",
   "execution_count": 67,
   "metadata": {
    "colab": {
     "base_uri": "https://localhost:8080/",
     "height": 255
    },
    "colab_type": "code",
    "id": "MUp-5usnj_-I",
    "outputId": "1e79e54b-f116-4b73-9641-d9336455159d"
   },
   "outputs": [
    {
     "data": {
      "text/plain": [
       "<bound method DataFrame.info of                X          Y  Carspeedlimit\n",
       "4     -77.147322  38.893828           30.0\n",
       "5     -77.566942  37.411767           45.0\n",
       "6     -77.458312  37.627918           45.0\n",
       "7     -77.526632  39.030848           45.0\n",
       "8     -77.210182  38.834688           35.0\n",
       "...          ...        ...            ...\n",
       "85994 -77.591352  37.602628           40.0\n",
       "85995 -77.428682  37.392907           45.0\n",
       "85996 -77.481652  37.574937           35.0\n",
       "85998 -77.614292  37.521087           45.0\n",
       "85999 -77.457542  37.621328           45.0\n",
       "\n",
       "[48406 rows x 3 columns]>"
      ]
     },
     "execution_count": 67,
     "metadata": {
      "tags": []
     },
     "output_type": "execute_result"
    }
   ],
   "source": [
    "lng_lat_prepared.info"
   ]
  },
  {
   "cell_type": "markdown",
   "metadata": {
    "colab_type": "text",
    "id": "nPBJQ9DiYtPS"
   },
   "source": [
    "The first map of the datapoints show the Longitude and Latitude of the points. Noticably, there is a high concentration of points around major cities and roadways."
   ]
  },
  {
   "cell_type": "code",
   "execution_count": 80,
   "metadata": {
    "colab": {
     "base_uri": "https://localhost:8080/",
     "height": 295
    },
    "colab_type": "code",
    "id": "q6mGumA8Ycml",
    "outputId": "29e4de36-99da-461e-977a-7fb67b56b691"
   },
   "outputs": [
    {
     "data": {
      "image/png": "[encoded data removed]",
      "text/plain": [
       "<Figure size 720x288 with 1 Axes>"
      ]
     },
     "metadata": {
      "tags": []
     },
     "output_type": "display_data"
    }
   ],
   "source": [
    "lng_lat_prepared.plot(kind='scatter', x='X', y='Y', alpha = 0.1,\n",
    "            figsize=(10,4))\n",
    "\n",
    "plt.xlabel('Longitude')\n",
    "plt.ylabel('Latitude')\n",
    "plt.title('Crash Crashes in Virginia')\n",
    "\n",
    "plt.show()"
   ]
  },
  {
   "cell_type": "markdown",
   "metadata": {
    "colab_type": "text",
    "id": "4wXN0Gl4Y6C9"
   },
   "source": [
    "The next map uses a heatmap to show the density of crashes by the speedlimit the driver was going. It can now be seen that the higher density crashes occur at lower speed limits. "
   ]
  },
  {
   "cell_type": "code",
   "execution_count": 77,
   "metadata": {
    "colab": {
     "base_uri": "https://localhost:8080/",
     "height": 268
    },
    "colab_type": "code",
    "id": "OTxmIoudW3eJ",
    "outputId": "5d261139-f8d8-4638-f8e9-3ecf2a4843e8"
   },
   "outputs": [
    {
     "data": {
      "image/png": "[encoded data removed]",
      "text/plain": [
       "<Figure size 720x288 with 2 Axes>"
      ]
     },
     "metadata": {
      "tags": []
     },
     "output_type": "display_data"
    }
   ],
   "source": [
    "import matplotlib.pyplot as plt\n",
    "\n",
    "#Heat map of \n",
    "lng_lat_prepared.plot(kind='scatter', x='X', y='Y', alpha = 0.3,\n",
    "            figsize=(10,4), c='Carspeedlimit', cmap=plt.get_cmap(\"hot\"), colorbar=True)\n",
    "\n",
    "plt.xlabel('Longitude')\n",
    "plt.ylabel('Latitude')\n",
    "plt.title('Heatmap of Crash Crashes in Virginia by SpeedLimit')\n",
    "\n",
    "plt.show()"
   ]
  },
  {
   "cell_type": "code",
   "execution_count": 82,
   "metadata": {
    "colab": {
     "base_uri": "https://localhost:8080/",
     "height": 242
    },
    "colab_type": "code",
    "id": "esg-2fqqSXAt",
    "outputId": "13ff5763-3d5e-4473-dc11-d7a55bbfa494"
   },
   "outputs": [
    {
     "data": {
      "text/plain": [
       "Text(0.5, 1.0, 'Crash Crashes in Virginia Overlay Virginia Highway Map')"
      ]
     },
     "execution_count": 82,
     "metadata": {
      "tags": []
     },
     "output_type": "execute_result"
    },
    {
     "data": {
      "image/png": "[encoded data removed]",
      "text/plain": [
       "<Figure size 432x288 with 1 Axes>"
      ]
     },
     "metadata": {
      "tags": []
     },
     "output_type": "display_data"
    }
   ],
   "source": [
    "import numpy as np\n",
    "from PIL import Image\n",
    "\n",
    "#Overlay Scatterplot over highway map of virginia\n",
    "im = plt.imread('va_highways.jpg')\n",
    "implot = plt.imshow(im)\n",
    "\n",
    "pic = Image.open('va_highways.jpg')\n",
    "\n",
    "#Convert from original range to picture size range\n",
    "OldRange_X = np.max(lng_lat_prepared['X']) - np.min(lng_lat_prepared['X']) \n",
    "OldRange_Y = np.max(lng_lat_prepared['Y']) - np.min(lng_lat_prepared['Y']) \n",
    "NewRange_X = pic.size[0]\n",
    "NewRange_Y = -pic.size[1]\n",
    "NewValue_X = (((lng_lat_prepared['X'] - np.min(lng_lat_prepared['X'])) * NewRange_X) / OldRange_X)\n",
    "NewValue_Y = (((lng_lat_prepared['Y'] - np.min(lng_lat_prepared['Y'])) * NewRange_Y) / OldRange_Y) - NewRange_Y\n",
    "\n",
    "plt.scatter(NewValue_X, NewValue_Y, alpha=0.01)\n",
    "plt.xlabel('Longitude Scaled')\n",
    "plt.ylabel('Latitude Scaled')\n",
    "plt.title('Crash Crashes in Virginia Overlay Virginia Highway Map')"
   ]
  },
  {
   "cell_type": "markdown",
   "metadata": {
    "colab_type": "text",
    "id": "_OeZ8WRJU_D_"
   },
   "source": [
    "The above graph gives insight into where a majority of the crashes are occuring. Most crashes occur on the major highways, which is where a large percentage of drivers drive everyday. Also, a lot of crashes are concentrated around cities because the population density is higher so there are more cars. This means that features pretaining to road type and population density are important factors. This is way the RURALURBANDESC and the Carspeedlimit features were selected."
   ]
  },
  {
   "cell_type": "markdown",
   "metadata": {
    "colab_type": "text",
    "id": "O-KzYNB9K4I3"
   },
   "source": [
    "## **Data Cleaning**"
   ]
  },
  {
   "cell_type": "code",
   "execution_count": 2,
   "metadata": {
    "colab": {
     "base_uri": "https://localhost:8080/",
     "height": 289
    },
    "colab_type": "code",
    "id": "aAsc6aVyPTHM",
    "outputId": "42d7e938-8291-4610-b310-83f3917bea3b"
   },
   "outputs": [
    {
     "name": "stdout",
     "output_type": "stream",
     "text": [
      "<class 'pandas.core.frame.DataFrame'>\n",
      "RangeIndex: 50123 entries, 0 to 50122\n",
      "Data columns (total 11 columns):\n",
      "Carspeedlimit         50123 non-null float64\n",
      "Alcohol_Notalcohol    50123 non-null object\n",
      "DAY_OF_WEEK           50123 non-null object\n",
      "NIGHT                 50123 non-null object\n",
      "Weather_Condition     50123 non-null object\n",
      "Young_Notyoung        50123 non-null object\n",
      "Light_Condition       50123 non-null object\n",
      "INTERSECTION_TYPE     50123 non-null object\n",
      "Collision_Type        50123 non-null object\n",
      "Time_Slicing_Used     50123 non-null object\n",
      "Area_Type_Used        50123 non-null object\n",
      "dtypes: float64(1), object(10)\n",
      "memory usage: 4.2+ MB\n"
     ]
    }
   ],
   "source": [
    "import pandas as pd\n",
    "#Function to load full crash data\n",
    "def load_updated_crash_data(path=\"Updated_Crash_Data.csv\"):\n",
    "    return pd.read_csv(path)\n",
    "\n",
    "#Open updated crash data\n",
    "crash_data = load_updated_crash_data()\n",
    "crash_data.info()"
   ]
  },
  {
   "cell_type": "code",
   "execution_count": 0,
   "metadata": {
    "colab": {},
    "colab_type": "code",
    "id": "UIZlGUe6aHSL"
   },
   "outputs": [],
   "source": [
    "from sklearn.pipeline import Pipeline\n",
    "from sklearn.preprocessing import StandardScaler\n",
    "from sklearn.compose import ColumnTransformer\n",
    "from sklearn.preprocessing import OneHotEncoder\n",
    "\n",
    "#Split data into categorical and numerical features for processing\n",
    "crash_num = crash_data['Carspeedlimit']\n",
    "crash_cat = crash_data.drop('Carspeedlimit', axis=1)\n",
    "\n",
    "num_attribs = [\"Carspeedlimit\"]\n",
    "cat_attribs = list(crash_cat)\n",
    "\n",
    "num_pipeline = Pipeline([\n",
    "        ('std_scaler', StandardScaler()),\n",
    "    ])\n",
    "\n",
    "full_pipeline = ColumnTransformer([\n",
    "        (\"num\", num_pipeline, num_attribs),\n",
    "        (\"cat\", OneHotEncoder(), cat_attribs),\n",
    "    ])\n",
    "\n",
    "crash_prepared = full_pipeline.fit_transform(crash_data)"
   ]
  },
  {
   "cell_type": "code",
   "execution_count": 0,
   "metadata": {
    "colab": {},
    "colab_type": "code",
    "id": "FmX6dQmHOoCo"
   },
   "outputs": [],
   "source": [
    "#Split data into train and test set\n",
    "from sklearn.model_selection import train_test_split\n",
    "\n",
    "small_crash_set = crash_prepared[:8600] # for hyperparamter tuning\n",
    "train_set, test_set = train_test_split(crash_prepared, test_size=0.1, random_state=42)\n",
    "train_small, test_small = train_test_split(small_crash_set, test_size=0.1, random_state=42)"
   ]
  },
  {
   "cell_type": "markdown",
   "metadata": {
    "colab_type": "text",
    "id": "ei3xTxQQbiMJ"
   },
   "source": [
    "## **One Class SVM**"
   ]
  },
  {
   "cell_type": "code",
   "execution_count": 0,
   "metadata": {
    "colab": {},
    "colab_type": "code",
    "id": "-dKSArZjfUlY"
   },
   "outputs": [],
   "source": [
    "from sklearn.svm import OneClassSVM\n",
    "from sklearn.model_selection import ParameterGrid\n",
    "from sklearn.metrics import accuracy_score\n",
    "from sklearn.metrics import confusion_matrix\n",
    "import numpy as np\n",
    "\n",
    "#Standard GridSearch can't be performed with OneClassSVM so use custom function\n",
    "#Function returns best set of parameters from input grid\n",
    "def gridTune(model, train, test, grid):\n",
    "  best_params = None\n",
    "  best_accuracy = 0\n",
    "  i = 0\n",
    "  for z in ParameterGrid(grid):\n",
    "    model.set_params(**z)\n",
    "    model.fit(train)\n",
    "    y_pred = model.predict(test)\n",
    "    if 1. in y_pred:\n",
    "      accScore = accuracy_score([1] * len(y_pred), y_pred)\n",
    "      if (accScore >= best_accuracy):\n",
    "        best_params = z\n",
    "        best_accuracy = accScore\n",
    "  return best_params"
   ]
  },
  {
   "cell_type": "markdown",
   "metadata": {
    "colab_type": "text",
    "id": "EetKtNKtq-Oq"
   },
   "source": [
    "**RBF Kernel**"
   ]
  },
  {
   "cell_type": "code",
   "execution_count": 105,
   "metadata": {
    "colab": {
     "base_uri": "https://localhost:8080/",
     "height": 34
    },
    "colab_type": "code",
    "id": "cfVLAGpech7f",
    "outputId": "139fc32b-5b05-453d-df5f-4576b4a2e481"
   },
   "outputs": [
    {
     "name": "stdout",
     "output_type": "stream",
     "text": [
      "{'gamma': 0.005623413251903491, 'nu': 0.3}\n"
     ]
    }
   ],
   "source": [
    "clf_rbf_grid = OneClassSVM(kernel='rbf')\n",
    "\n",
    "#Parameter Grid: gamma, nu\n",
    "grid = {'gamma' : np.logspace(-4,3,5),\n",
    "        'nu' : np.linspace(0.3,0.99,5)}\n",
    "\n",
    "bestParameters = gridTune(clf_rbf_grid, train_small, test_small, grid)\n",
    "print(bestParameters)"
   ]
  },
  {
   "cell_type": "code",
   "execution_count": 126,
   "metadata": {
    "colab": {
     "base_uri": "https://localhost:8080/",
     "height": 68
    },
    "colab_type": "code",
    "id": "LcVAgKSjqZ5s",
    "outputId": "07101f8e-87ab-47c2-8852-9dc03e656a1b"
   },
   "outputs": [
    {
     "data": {
      "text/plain": [
       "OneClassSVM(cache_size=200, coef0=0.0, degree=3, gamma=0.005623413251903491,\n",
       "            kernel='rbf', max_iter=-1, nu=0.3, random_state=None,\n",
       "            shrinking=True, tol=0.001, verbose=False)"
      ]
     },
     "execution_count": 126,
     "metadata": {
      "tags": []
     },
     "output_type": "execute_result"
    }
   ],
   "source": [
    "#Train svm with best parameters\n",
    "clf_rbf = OneClassSVM(kernel=\"rbf\", gamma=bestParameters['gamma'], nu=bestParameters['nu']) \n",
    "clf_rbf.fit(train_set)"
   ]
  },
  {
   "cell_type": "code",
   "execution_count": 127,
   "metadata": {
    "colab": {
     "base_uri": "https://localhost:8080/",
     "height": 51
    },
    "colab_type": "code",
    "id": "inLyFLfvrl2z",
    "outputId": "fae65ef6-7726-4268-9ef2-863c4c3486bc"
   },
   "outputs": [
    {
     "name": "stdout",
     "output_type": "stream",
     "text": [
      "Training Accuracy:  0.7009310574152072\n",
      "Testing Accuracy:  0.6973867943347297\n"
     ]
    }
   ],
   "source": [
    "#RBF Accuracy\n",
    "y_pred_train_rbf = clf_rbf.predict(train_set)\n",
    "y_pred_test_rbf = clf_rbf.predict(test_set)\n",
    "rbf_train_acc = y_pred_train_rbf[y_pred_train_rbf == 1].size\n",
    "rbf_test_acc = y_pred_test_rbf[y_pred_test_rbf == 1].size\n",
    "\n",
    "print(\"Training Accuracy: \", rbf_train_acc / len(y_pred_train_rbf)) #Training accuracy\n",
    "print(\"Testing Accuracy: \", rbf_test_acc / len(y_pred_test_rbf)) #Testing accuracy"
   ]
  },
  {
   "cell_type": "code",
   "execution_count": 128,
   "metadata": {
    "colab": {
     "base_uri": "https://localhost:8080/",
     "height": 51
    },
    "colab_type": "code",
    "id": "rcK8I-oJyqlf",
    "outputId": "6912183d-d029-439c-dc58-4dc250e85a2c"
   },
   "outputs": [
    {
     "data": {
      "text/plain": [
       "array([[   0,    0],\n",
       "       [1517, 3496]])"
      ]
     },
     "execution_count": 128,
     "metadata": {
      "tags": []
     },
     "output_type": "execute_result"
    }
   ],
   "source": [
    "#RBF confusion matrix\n",
    "confusion_matrix([1] * len(y_pred_test_rbf), y_pred_test_rbf)"
   ]
  },
  {
   "cell_type": "markdown",
   "metadata": {
    "colab_type": "text",
    "id": "pU_31Vnvy5un"
   },
   "source": [
    "The confusion matrix for this classification looks slightly different than the confusion matrices we are used to seeing. This is because all the samples in the dataset represent car crashes. Thus the only possibilites are to calulate true positives (bottom right) or false negatives (bottom left)."
   ]
  },
  {
   "cell_type": "markdown",
   "metadata": {
    "colab_type": "text",
    "id": "pLfvXAJNrY6p"
   },
   "source": [
    "**Polynomial Kernel**"
   ]
  },
  {
   "cell_type": "code",
   "execution_count": 129,
   "metadata": {
    "colab": {
     "base_uri": "https://localhost:8080/",
     "height": 34
    },
    "colab_type": "code",
    "id": "tw71m2f9tjFQ",
    "outputId": "7375d8a0-4187-4685-8193-bae41cb7de60"
   },
   "outputs": [
    {
     "name": "stdout",
     "output_type": "stream",
     "text": [
      "{'coef0': 1, 'gamma': 0.005623413251903491, 'nu': 0.3}\n"
     ]
    }
   ],
   "source": [
    "clf_poly_grid = OneClassSVM(kernel='poly')\n",
    "\n",
    "#Parameter Grid: gamme, nu, coef0\n",
    "grid = {'gamma' : np.logspace(-4,3,5),\n",
    "        'nu' : np.linspace(0.3,0.99,5),\n",
    "        'coef0' : (0,1)}\n",
    "\n",
    "bestParametersPoly = gridTune(clf_rbf_grid, train_small, test_small, grid)\n",
    "print(bestParametersPoly)"
   ]
  },
  {
   "cell_type": "code",
   "execution_count": 130,
   "metadata": {
    "colab": {
     "base_uri": "https://localhost:8080/",
     "height": 68
    },
    "colab_type": "code",
    "id": "2X_4XaKQs-lO",
    "outputId": "c5c195c9-d19b-46a0-b815-c2d8f38b4290"
   },
   "outputs": [
    {
     "data": {
      "text/plain": [
       "OneClassSVM(cache_size=200, coef0=1, degree=3, gamma=0.005623413251903491,\n",
       "            kernel='poly', max_iter=-1, nu=0.3, random_state=None,\n",
       "            shrinking=True, tol=0.001, verbose=False)"
      ]
     },
     "execution_count": 130,
     "metadata": {
      "tags": []
     },
     "output_type": "execute_result"
    }
   ],
   "source": [
    "#Train svm with best parameters\n",
    "clf_poly = OneClassSVM(kernel=\"poly\", gamma=bestParametersPoly['gamma'], \n",
    "                       nu=bestParametersPoly['nu'], coef0=bestParametersPoly['coef0']) \n",
    "clf_poly.fit(train_set)"
   ]
  },
  {
   "cell_type": "code",
   "execution_count": 131,
   "metadata": {
    "colab": {
     "base_uri": "https://localhost:8080/",
     "height": 51
    },
    "colab_type": "code",
    "id": "uxI6gdpptQx5",
    "outputId": "c7e9b28a-6c90-4263-b3dd-8b1a6e9ccf33"
   },
   "outputs": [
    {
     "name": "stdout",
     "output_type": "stream",
     "text": [
      "Training Accuracy:  0.6999556639326092\n",
      "Testing Accuracy:  0.6955914621982845\n"
     ]
    }
   ],
   "source": [
    "#Polynomial Accuracy\n",
    "y_pred_train_poly = clf_poly.predict(train_set)\n",
    "y_pred_test_poly = clf_poly.predict(test_set)\n",
    "poly_train_acc = y_pred_train_poly[y_pred_train_poly == 1].size\n",
    "poly_test_acc = y_pred_test_poly[y_pred_test_poly == 1].size\n",
    "\n",
    "print(\"Training Accuracy: \", poly_train_acc / len(y_pred_train_poly)) #Training accuracy\n",
    "print(\"Testing Accuracy: \", poly_test_acc / len(y_pred_test_poly)) #Testing accuracy"
   ]
  },
  {
   "cell_type": "code",
   "execution_count": 132,
   "metadata": {
    "colab": {
     "base_uri": "https://localhost:8080/",
     "height": 51
    },
    "colab_type": "code",
    "id": "OIzqrm7pzlAV",
    "outputId": "0aba8dc7-7d65-4ae2-9010-6f2ecf704513"
   },
   "outputs": [
    {
     "data": {
      "text/plain": [
       "array([[   0,    0],\n",
       "       [1526, 3487]])"
      ]
     },
     "execution_count": 132,
     "metadata": {
      "tags": []
     },
     "output_type": "execute_result"
    }
   ],
   "source": [
    "#Polynomial confusion matrix\n",
    "confusion_matrix([1] * len(y_pred_test_poly), y_pred_test_poly)"
   ]
  },
  {
   "cell_type": "markdown",
   "metadata": {
    "colab_type": "text",
    "id": "H-I8sT1HrajD"
   },
   "source": [
    "**Linear Kernel**"
   ]
  },
  {
   "cell_type": "code",
   "execution_count": 113,
   "metadata": {
    "colab": {
     "base_uri": "https://localhost:8080/",
     "height": 34
    },
    "colab_type": "code",
    "id": "kzMKKooTv34V",
    "outputId": "4f6dca5b-5798-4e1b-d9df-867c04b1d586"
   },
   "outputs": [
    {
     "name": "stdout",
     "output_type": "stream",
     "text": [
      "{'gamma': 1000.0, 'nu': 0.3}\n"
     ]
    }
   ],
   "source": [
    "clf_lin_grid = OneClassSVM(kernel='linear')\n",
    "\n",
    "#Parameter Grid: gamme, nu\n",
    "grid = {'gamma' : np.logspace(-4,3,5),\n",
    "        'nu' : np.linspace(0.3,0.99,5)}\n",
    "\n",
    "bestParametersLin = gridTune(clf_lin_grid, train_small, test_small, grid)\n",
    "print(bestParametersLin)"
   ]
  },
  {
   "cell_type": "code",
   "execution_count": 133,
   "metadata": {
    "colab": {
     "base_uri": "https://localhost:8080/",
     "height": 68
    },
    "colab_type": "code",
    "id": "YL_2TFVVv-zd",
    "outputId": "4b9d02ec-e7d3-4a05-a617-136973f6461a"
   },
   "outputs": [
    {
     "data": {
      "text/plain": [
       "OneClassSVM(cache_size=200, coef0=0.0, degree=3, gamma=0.005623413251903491,\n",
       "            kernel='linear', max_iter=-1, nu=0.3, random_state=None,\n",
       "            shrinking=True, tol=0.001, verbose=False)"
      ]
     },
     "execution_count": 133,
     "metadata": {
      "tags": []
     },
     "output_type": "execute_result"
    }
   ],
   "source": [
    "#Train svm with best parameters\n",
    "clf_lin = OneClassSVM(kernel=\"linear\", gamma=bestParametersPoly['gamma'], \n",
    "                       nu=bestParametersPoly['nu']) \n",
    "clf_lin.fit(train_set)"
   ]
  },
  {
   "cell_type": "code",
   "execution_count": 134,
   "metadata": {
    "colab": {
     "base_uri": "https://localhost:8080/",
     "height": 51
    },
    "colab_type": "code",
    "id": "nAHgYUWKwgSW",
    "outputId": "a91b4863-ad6d-4be8-9dcc-770239f14f3b"
   },
   "outputs": [
    {
     "name": "stdout",
     "output_type": "stream",
     "text": [
      "Training Accuracy:  0.6997118155619596\n",
      "Testing Accuracy:  0.6973867943347297\n"
     ]
    }
   ],
   "source": [
    "#Linear Accuracy\n",
    "y_pred_train_lin = clf_lin.predict(train_set)\n",
    "y_pred_test_lin = clf_lin.predict(test_set)\n",
    "lin_train_acc = y_pred_train_lin[y_pred_train_lin == 1].size\n",
    "lin_test_acc = y_pred_test_lin[y_pred_test_lin == 1].size\n",
    "\n",
    "print(\"Training Accuracy: \", lin_train_acc / len(y_pred_train_lin)) #Training accuracy\n",
    "print(\"Testing Accuracy: \", lin_test_acc / len(y_pred_test_lin)) #Testing accuracy"
   ]
  },
  {
   "cell_type": "code",
   "execution_count": 135,
   "metadata": {
    "colab": {
     "base_uri": "https://localhost:8080/",
     "height": 51
    },
    "colab_type": "code",
    "id": "6WsmgGfuw9pf",
    "outputId": "a0474f30-2c55-447b-808e-4f1ac81741fd"
   },
   "outputs": [
    {
     "data": {
      "text/plain": [
       "array([[   0,    0],\n",
       "       [1517, 3496]])"
      ]
     },
     "execution_count": 135,
     "metadata": {
      "tags": []
     },
     "output_type": "execute_result"
    }
   ],
   "source": [
    "#Linear confusion matrix\n",
    "confusion_matrix([1] * len(y_pred_test_lin), y_pred_test_lin)"
   ]
  },
  {
   "cell_type": "markdown",
   "metadata": {
    "colab_type": "text",
    "id": "LwlncCXFQvbo"
   },
   "source": [
    "After training with the optimal parameters on the entire datset, the rbf and linear kernels achieved the same accuracy of 69.74% on the testing set. It should be noted that the rbf kernel performed slightly better than the linear kernel on the training set."
   ]
  },
  {
   "cell_type": "markdown",
   "metadata": {
    "colab_type": "text",
    "id": "TyE8bf7Cz6ls"
   },
   "source": [
    "## **K-Nearest Neighbors**"
   ]
  },
  {
   "cell_type": "markdown",
   "metadata": {
    "colab_type": "text",
    "id": "jVQGPH6l5mlO"
   },
   "source": [
    "With K_Nearest Neighbors you can use novelty detection to determine whether a datapoint is an outlier or not. This is useful with our dataset since we are trying to create a boundary around the data in order to create a threshold for positive samples to be within."
   ]
  },
  {
   "cell_type": "code",
   "execution_count": 136,
   "metadata": {
    "colab": {
     "base_uri": "https://localhost:8080/",
     "height": 68
    },
    "colab_type": "code",
    "id": "bDcapI2l0Cr-",
    "outputId": "eb5ae0d4-7b67-4724-dcdc-0c1a38b13b37"
   },
   "outputs": [
    {
     "data": {
      "text/plain": [
       "LocalOutlierFactor(algorithm='auto', contamination='auto', leaf_size=30,\n",
       "                   metric='minkowski', metric_params=None, n_jobs=None,\n",
       "                   n_neighbors=20, novelty=True, p=2)"
      ]
     },
     "execution_count": 136,
     "metadata": {
      "tags": []
     },
     "output_type": "execute_result"
    }
   ],
   "source": [
    "from sklearn.neighbors import LocalOutlierFactor\n",
    "clf_LOF = LocalOutlierFactor(novelty=True, n_neighbors=20, contamination='auto')  #Need to set novelty to True\n",
    "clf_LOF.fit(train_set)"
   ]
  },
  {
   "cell_type": "code",
   "execution_count": 137,
   "metadata": {
    "colab": {
     "base_uri": "https://localhost:8080/",
     "height": 34
    },
    "colab_type": "code",
    "id": "sZLoD57T1Kg7",
    "outputId": "9a37e62e-aebf-48ce-aac8-612c63364b0e"
   },
   "outputs": [
    {
     "name": "stdout",
     "output_type": "stream",
     "text": [
      "Testing Accuracy:  0.7811689607021743\n"
     ]
    }
   ],
   "source": [
    "#kNeighbors Accuracy\n",
    "y_pred_LOF = clf_LOF.predict(test_set)\n",
    "LOF_test_acc = y_pred_LOF[y_pred_LOF == 1].size\n",
    "print(\"Testing Accuracy: \", LOF_test_acc / len(y_pred_LOF)) #Testing accuracy"
   ]
  },
  {
   "cell_type": "code",
   "execution_count": 138,
   "metadata": {
    "colab": {
     "base_uri": "https://localhost:8080/",
     "height": 51
    },
    "colab_type": "code",
    "id": "BWuzXAdH1Vuj",
    "outputId": "4b37c767-21d3-4902-a062-60a5577e7a2a"
   },
   "outputs": [
    {
     "data": {
      "text/plain": [
       "array([[   0,    0],\n",
       "       [1097, 3916]])"
      ]
     },
     "execution_count": 138,
     "metadata": {
      "tags": []
     },
     "output_type": "execute_result"
    }
   ],
   "source": [
    "#kNeighbors confusion matrix\n",
    "confusion_matrix([1] * len(y_pred_LOF), y_pred_LOF)"
   ]
  },
  {
   "cell_type": "markdown",
   "metadata": {
    "colab_type": "text",
    "id": "cu4ztYriDfx3"
   },
   "source": [
    "## **Isolation Forest**"
   ]
  },
  {
   "cell_type": "code",
   "execution_count": 139,
   "metadata": {
    "colab": {
     "base_uri": "https://localhost:8080/",
     "height": 173
    },
    "colab_type": "code",
    "id": "wjmbEB-6DjuQ",
    "outputId": "bc9c272e-2832-4e91-d7ba-4db8d0c3b7b7"
   },
   "outputs": [
    {
     "name": "stderr",
     "output_type": "stream",
     "text": [
      "/usr/local/lib/python3.6/dist-packages/sklearn/ensemble/iforest.py:237: FutureWarning: default contamination parameter 0.1 will change in version 0.22 to \"auto\". This will change the predict method behavior.\n",
      "  FutureWarning)\n",
      "[Parallel(n_jobs=10)]: Using backend ThreadingBackend with 10 concurrent workers.\n",
      "[Parallel(n_jobs=10)]: Done   2 out of  10 | elapsed:    0.1s remaining:    0.4s\n",
      "[Parallel(n_jobs=10)]: Done  10 out of  10 | elapsed:    0.1s finished\n"
     ]
    },
    {
     "data": {
      "text/plain": [
       "IsolationForest(behaviour='new', bootstrap=False, contamination='legacy',\n",
       "                max_features=1.0, max_samples='auto', n_estimators=10,\n",
       "                n_jobs=100, random_state=None, verbose=1, warm_start=True)"
      ]
     },
     "execution_count": 139,
     "metadata": {
      "tags": []
     },
     "output_type": "execute_result"
    }
   ],
   "source": [
    "from sklearn.ensemble import IsolationForest\n",
    "clf_iso = IsolationForest(n_estimators=10, warm_start=True, behaviour='new', verbose=1, n_jobs=100)\n",
    "clf_iso.fit(train_set)"
   ]
  },
  {
   "cell_type": "code",
   "execution_count": 140,
   "metadata": {
    "colab": {
     "base_uri": "https://localhost:8080/",
     "height": 34
    },
    "colab_type": "code",
    "id": "AhFjVdaoEAcv",
    "outputId": "4c50ef23-3a5f-43cf-d03e-ef5cdae075ef"
   },
   "outputs": [
    {
     "name": "stdout",
     "output_type": "stream",
     "text": [
      "Testing Accuracy:  0.8968681428286456\n"
     ]
    }
   ],
   "source": [
    "#isoForest Accuracy\n",
    "y_pred_iso = clf_iso.predict(test_set)\n",
    "iso_test_acc = y_pred_iso[y_pred_iso == 1].size\n",
    "print(\"Testing Accuracy: \", iso_test_acc / len(y_pred_iso)) #Testing accuracy"
   ]
  },
  {
   "cell_type": "code",
   "execution_count": 141,
   "metadata": {
    "colab": {
     "base_uri": "https://localhost:8080/",
     "height": 51
    },
    "colab_type": "code",
    "id": "_TfvdrgXETgG",
    "outputId": "0b737f7f-6e5a-4b30-cdf3-60ece0a548bc"
   },
   "outputs": [
    {
     "data": {
      "text/plain": [
       "array([[   0,    0],\n",
       "       [ 517, 4496]])"
      ]
     },
     "execution_count": 141,
     "metadata": {
      "tags": []
     },
     "output_type": "execute_result"
    }
   ],
   "source": [
    "#isoForest confusion matrix\n",
    "confusion_matrix([1] * len(y_pred_iso), y_pred_iso)"
   ]
  }
 ],
 "metadata": {
  "colab": {
   "name": "MLV_Project.ipynb",
   "provenance": [],
   "toc_visible": true
  },
  "kernelspec": {
   "display_name": "Python 3",
   "language": "python",
   "name": "python3"
  },
  "language_info": {
   "codemirror_mode": {
    "name": "ipython",
    "version": 3
   },
   "file_extension": ".py",
   "mimetype": "text/x-python",
   "name": "python",
   "nbconvert_exporter": "python",
   "pygments_lexer": "ipython3",
   "version": "3.8.1"
  }
 },
 "nbformat": 4,
 "nbformat_minor": 1
}
